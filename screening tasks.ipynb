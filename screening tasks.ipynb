{
 "cells": [
  {
   "cell_type": "markdown",
   "metadata": {},
   "source": [
    "# Screening Tasks"
   ]
  },
  {
   "cell_type": "markdown",
   "metadata": {},
   "source": [
    "## Task 1 State VectorStatevector simulation of quantum circuits"
   ]
  },
  {
   "cell_type": "markdown",
   "metadata": {},
   "source": [
    "### (1) Naive simulation using matrix multiplication"
   ]
  },
  {
   "cell_type": "code",
   "execution_count": 1,
   "metadata": {},
   "outputs": [],
   "source": [
    "import numpy as np\n",
    "\n",
    "# implement single qubit gates\n",
    "I = np.array([[1, 0],\n",
    "              [0, 1]], dtype=complex)\n",
    "\n",
    "X = np.array([[0, 1],\n",
    "              [1, 0]], dtype=complex)\n",
    "\n",
    "H = (1/np.sqrt(2)) * np.array([[1,  1],\n",
    "                               [1, -1]], dtype=complex)\n",
    "\n",
    "# implement CNOT gate\n",
    "CNOT = np.array([[1, 0, 0, 0],\n",
    "                [0, 1, 0, 0],\n",
    "                [0, 0, 0, 1],\n",
    "                [0, 0, 1, 0]], dtype=complex)"
   ]
  },
  {
   "cell_type": "code",
   "execution_count": 2,
   "metadata": {},
   "outputs": [],
   "source": [
    "def initialize_state(n):\n",
    "    state = np.zeros(2**n, dtype=complex)\n",
    "    state[0] = 1.0\n",
    "    return state"
   ]
  },
  {
   "cell_type": "code",
   "execution_count": 3,
   "metadata": {},
   "outputs": [],
   "source": [
    "def apply_single_qubit_gate(state, gate, target_qubit, n):\n",
    "    # apply single qubit gate to target qubit\n",
    "    gates = []\n",
    "    for i in range(n):\n",
    "        if i == target_qubit:\n",
    "            gates.append(gate)\n",
    "        else:\n",
    "            gates.append(I)\n",
    "    full_gate = gates[0]\n",
    "    for g in gates[1:]:\n",
    "        full_gate = np.kron(full_gate, g)\n",
    "\n",
    "    return full_gate @ state\n",
    "\n",
    "def apply_cnot_gate(state, control_qubit, target_qubit, n):\n",
    "    # apply CNOT gate to control qubit and target qubit\n",
    "    if n != 2:\n",
    "        raise NotImplementedError(\"Only 2 qubit CNOT gate is implemented\")\n",
    "    return CNOT @ state"
   ]
  },
  {
   "cell_type": "code",
   "execution_count": 4,
   "metadata": {},
   "outputs": [],
   "source": [
    "import time\n",
    "import matplotlib.pyplot as plt\n",
    "\n",
    "def simulate_circuit(n, gate_sequence):\n",
    "    state = initialize_state(n)\n",
    "    for gate_info in gate_sequence:\n",
    "        gate_type = gate_info['gate']\n",
    "        if gate_type == 'H':\n",
    "            state = apply_single_qubit_gate(state, H, gate_info['target'], n)\n",
    "        elif gate_type == 'X':\n",
    "            state = apply_single_qubit_gate(state, X, gate_info['target'], n)\n",
    "        elif gate_type == 'CNOT':\n",
    "            state = apply_cnot_gate(state, gate_info['control'], gate_info['target'], n)\n",
    "        else:\n",
    "            raise ValueError(\"Unknown gate type\")\n",
    "    return state\n",
    "\n",
    "# example\n",
    "gate_sequence = [\n",
    "    {'gate': 'H', 'target': 0},\n",
    "    {'gate': 'CNOT', 'control': 0, 'target': 1}\n",
    "]\n"
   ]
  },
  {
   "cell_type": "code",
   "execution_count": 5,
   "metadata": {},
   "outputs": [],
   "source": [
    "def test_runtime(max_qubits):\n",
    "    qubit_counts = range(1, max_qubits + 1)\n",
    "    runtimes = []\n",
    "    for n in qubit_counts:\n",
    "        # define a sequence of Hadamard gates on each qubit\n",
    "        gate_sequence = [{'gate': 'H', 'target': i} for i in range(n)]\n",
    "        start_time = time.time()\n",
    "        state = simulate_circuit(n, gate_sequence)\n",
    "        end_time = time.time()\n",
    "        runtimes.append(end_time - start_time)\n",
    "        print(f\"Simulated {n} qubits in {end_time - start_time:.4f} seconds\")\n",
    "    # plot runtime vs number of qubits\n",
    "    plt.figure(figsize=(10, 6))\n",
    "    plt.plot(qubit_counts, runtimes, marker='o')\n",
    "    plt.xlabel('Number of Qubits')\n",
    "    plt.ylabel('Runtime (seconds)')\n",
    "    plt.title('Runtime vs Number of Qubits for Naive Simulation')\n",
    "    plt.grid(True)\n",
    "    plt.show()"
   ]
  },
  {
   "cell_type": "code",
   "execution_count": null,
   "metadata": {},
   "outputs": [
    {
     "name": "stdout",
     "output_type": "stream",
     "text": [
      "Simulated 1 qubits in 0.0003 seconds\n",
      "Simulated 2 qubits in 0.0004 seconds\n",
      "Simulated 3 qubits in 0.0001 seconds\n",
      "Simulated 4 qubits in 0.0002 seconds\n",
      "Simulated 5 qubits in 0.0006 seconds\n",
      "Simulated 6 qubits in 0.0016 seconds\n",
      "Simulated 7 qubits in 0.0022 seconds\n",
      "Simulated 8 qubits in 0.0052 seconds\n",
      "Simulated 9 qubits in 0.0224 seconds\n",
      "Simulated 10 qubits in 0.0673 seconds\n",
      "Simulated 11 qubits in 0.2918 seconds\n",
      "Simulated 12 qubits in 1.3987 seconds\n",
      "Simulated 13 qubits in 5.9348 seconds\n",
      "Simulated 14 qubits in 30.0301 seconds\n"
     ]
    }
   ],
   "source": [
    "# measure runtime for 1 to 15 qubits\n",
    "test_runtime(15)"
   ]
  },
  {
   "cell_type": "markdown",
   "metadata": {},
   "source": [
    "### (2) Advanced simulation using tensor multiplication"
   ]
  },
  {
   "cell_type": "code",
   "execution_count": 6,
   "metadata": {},
   "outputs": [],
   "source": [
    "def initialize_state_tensor(n):\n",
    "    # Initialize a tensor of shape (2, 2, ..., 2) with all zeros\n",
    "    state = np.zeros([2] * n, dtype=complex)\n",
    "    # Set the |0...0> state to 1\n",
    "    state[tuple([0] * n)] = 1.0\n",
    "    return state"
   ]
  },
  {
   "cell_type": "code",
   "execution_count": 7,
   "metadata": {},
   "outputs": [],
   "source": [
    "def apply_single_qubit_gate_tensor(state, gate, target_qubit):\n",
    "    # Move the target qubit to the first axis\n",
    "    state = np.moveaxis(state, target_qubit, 0)\n",
    "    # Apply the gate using tensordot\n",
    "    state = np.tensordot(gate, state, axes=([1], [0]))\n",
    "    # Move the target qubit back to its original position\n",
    "    state = np.moveaxis(state, 0, target_qubit)\n",
    "    return state\n",
    "\n",
    "def apply_cnot_gate_tensor(state, control_qubit, target_qubit, n):\n",
    "    if n != 2:\n",
    "        raise NotImplementedError(\"Currently, CNOT gate tensor application is only implemented for 2 qubits.\")\n",
    "    \n",
    "    # Reshape the state tensor to a 4-element vector for 2 qubits\n",
    "    state = state.reshape(2, 2)\n",
    "    # Apply CNOT gate\n",
    "    state = CNOT @ state.flatten().reshape(-1, 1)\n",
    "    # Reshape back to tensor\n",
    "    state = state.reshape(2, 2)\n",
    "    return state"
   ]
  },
  {
   "cell_type": "code",
   "execution_count": 8,
   "metadata": {},
   "outputs": [],
   "source": [
    "def simulate_circuit_tensor(n, gate_sequence):\n",
    "    # Initialize the state tensor\n",
    "    state = initialize_state_tensor(n)\n",
    "    \n",
    "    for gate_info in gate_sequence:\n",
    "        gate_type = gate_info['gate']\n",
    "        if gate_type in ['H', 'X']:\n",
    "            # Apply single-qubit gate\n",
    "            target = gate_info['target']\n",
    "            gate = H if gate_type == 'H' else X\n",
    "            state = apply_single_qubit_gate_tensor(state, gate, target)\n",
    "        elif gate_type == 'CNOT':\n",
    "            # Apply CNOT gate\n",
    "            control = gate_info['control']\n",
    "            target = gate_info['target']\n",
    "            state = apply_cnot_gate_tensor(state, control, target, n)\n",
    "        else:\n",
    "            raise ValueError(\"Unknown gate type\")\n",
    "    return state"
   ]
  },
  {
   "cell_type": "code",
   "execution_count": 9,
   "metadata": {},
   "outputs": [],
   "source": [
    "def test_runtime_tensor(max_qubits):\n",
    "    qubit_counts = range(1, max_qubits + 1)\n",
    "    runtimes = []\n",
    "    \n",
    "    for n in qubit_counts:\n",
    "        # Define a simple circuit: apply Hadamard gate to all qubits\n",
    "        gate_sequence = [{'gate': 'H', 'target': i} for i in range(n)]\n",
    "        \n",
    "        # Start timing\n",
    "        start_time = time.time()\n",
    "        \n",
    "        try:\n",
    "            state = simulate_circuit_tensor(n, gate_sequence)\n",
    "            end_time = time.time()\n",
    "            runtime = end_time - start_time\n",
    "            runtimes.append(runtime)\n",
    "            print(f\"Simulated {n} qubits in {runtime:.4f} seconds\")\n",
    "        except MemoryError:\n",
    "            print(f\"MemoryError: Unable to simulate {n} qubits.\")\n",
    "            runtimes.append(None)\n",
    "        except NotImplementedError as e:\n",
    "            print(f\"NotImplementedError: {e} for {n} qubits.\")\n",
    "            runtimes.append(None)\n",
    "    \n",
    "    # Plot runtime\n",
    "    plt.figure(figsize=(10, 6))\n",
    "    plt.plot(qubit_counts, runtimes, marker='o')\n",
    "    plt.xlabel('Number of Qubits')\n",
    "    plt.ylabel('Runtime (seconds)')\n",
    "    plt.title('Runtime vs Number of Qubits for Tensor Multiplication Simulation')\n",
    "    plt.grid(True)\n",
    "    plt.show()"
   ]
  },
  {
   "cell_type": "code",
   "execution_count": null,
   "metadata": {},
   "outputs": [
    {
     "name": "stdout",
     "output_type": "stream",
     "text": [
      "Simulated 1 qubits in 0.0001 seconds\n",
      "Simulated 2 qubits in 0.0001 seconds\n",
      "Simulated 3 qubits in 0.0000 seconds\n",
      "Simulated 4 qubits in 0.0001 seconds\n",
      "Simulated 5 qubits in 0.0001 seconds\n",
      "Simulated 6 qubits in 0.0001 seconds\n",
      "Simulated 7 qubits in 0.0001 seconds\n",
      "Simulated 8 qubits in 0.0002 seconds\n",
      "Simulated 9 qubits in 0.0001 seconds\n",
      "Simulated 10 qubits in 0.0001 seconds\n",
      "Simulated 11 qubits in 0.0002 seconds\n",
      "Simulated 12 qubits in 0.0005 seconds\n",
      "Simulated 13 qubits in 0.0008 seconds\n",
      "Simulated 14 qubits in 0.0015 seconds\n",
      "Simulated 15 qubits in 0.0033 seconds\n",
      "Simulated 16 qubits in 0.0070 seconds\n",
      "Simulated 17 qubits in 0.0176 seconds\n",
      "Simulated 18 qubits in 0.0341 seconds\n",
      "Simulated 19 qubits in 0.0680 seconds\n",
      "Simulated 20 qubits in 0.1504 seconds\n",
      "Simulated 21 qubits in 0.4180 seconds\n",
      "Simulated 22 qubits in 0.8798 seconds\n",
      "Simulated 23 qubits in 1.8084 seconds\n",
      "Simulated 24 qubits in 3.7291 seconds\n",
      "Simulated 25 qubits in 8.1973 seconds\n"
     ]
    },
    {
     "data": {
      "image/png": "[encoded data removed]",
      "text/plain": [
       "<Figure size 1000x600 with 1 Axes>"
      ]
     },
     "metadata": {},
     "output_type": "display_data"
    }
   ],
   "source": [
    "test_runtime_tensor(25)"
   ]
  },
  {
   "cell_type": "code",
   "execution_count": 10,
   "metadata": {},
   "outputs": [],
   "source": [
    "def test_runtime_comparison(max_qubits):\n",
    "    \"\"\"\n",
    "    Compare the runtime of naive and tensor multiplication simulation methods.\n",
    "    \"\"\"\n",
    "    qubit_counts = range(1, max_qubits + 1)\n",
    "    runtimes_naive = []\n",
    "    runtimes_tensor = []\n",
    "\n",
    "    for n in qubit_counts:\n",
    "        # Define a simple circuit: apply Hadamard gate to all qubits\n",
    "        gate_sequence = [{'gate': 'H', 'target': i} for i in range(n)]\n",
    "\n",
    "        # Naive Simulation\n",
    "        start_time = time.time()\n",
    "        try:\n",
    "            _ = simulate_circuit_matrix(n, gate_sequence)\n",
    "            end_time = time.time()\n",
    "            runtime = end_time - start_time\n",
    "            runtimes_naive.append(runtime)\n",
    "            print(f\"Matrix: Simulated {n} qubits in {runtime:.4f} seconds\")\n",
    "        except MemoryError:\n",
    "            print(f\"Matrix: MemoryError - Unable to simulate {n} qubits.\")\n",
    "            runtimes_naive.append(None)\n",
    "\n",
    "        # Tensor Multiplication Simulation\n",
    "        start_time = time.time()\n",
    "        try:\n",
    "            _ = simulate_circuit_tensor(n, gate_sequence)\n",
    "            end_time = time.time()\n",
    "            runtime = end_time - start_time\n",
    "            runtimes_tensor.append(runtime)\n",
    "            print(f\"Tensor: Simulated {n} qubits in {runtime:.4f} seconds\")\n",
    "        except MemoryError:\n",
    "            print(f\"Tensor: MemoryError - Unable to simulate {n} qubits.\")\n",
    "            runtimes_tensor.append(None)\n",
    "\n",
    "    # Plot the runtimes\n",
    "    plt.figure(figsize=(12, 8))\n",
    "    plt.plot(qubit_counts, runtimes_naive, marker='o', label='Naive Simulation')\n",
    "    plt.plot(qubit_counts, runtimes_tensor, marker='s', label='Tensor Multiplication Simulation')\n",
    "    plt.xlabel('Number of Qubits')\n",
    "    plt.ylabel('Runtime (seconds)')\n",
    "    plt.title('Runtime Comparison: Naive vs Tensor Multiplication Simulation')\n",
    "    plt.legend()\n",
    "    plt.grid(True)\n",
    "    plt.xticks(qubit_counts)\n",
    "    plt.show()\n"
   ]
  },
  {
   "cell_type": "code",
   "execution_count": 39,
   "metadata": {},
   "outputs": [
    {
     "name": "stdout",
     "output_type": "stream",
     "text": [
      "Matrix: Simulated 1 qubits in 0.0000 seconds\n",
      "Tensor: Simulated 1 qubits in 0.0000 seconds\n",
      "Matrix: Simulated 2 qubits in 0.0001 seconds\n",
      "Tensor: Simulated 2 qubits in 0.0000 seconds\n",
      "Matrix: Simulated 3 qubits in 0.0001 seconds\n",
      "Tensor: Simulated 3 qubits in 0.0000 seconds\n",
      "Matrix: Simulated 4 qubits in 0.0001 seconds\n",
      "Tensor: Simulated 4 qubits in 0.0000 seconds\n",
      "Matrix: Simulated 5 qubits in 0.0005 seconds\n",
      "Tensor: Simulated 5 qubits in 0.0001 seconds\n",
      "Matrix: Simulated 6 qubits in 0.0006 seconds\n",
      "Tensor: Simulated 6 qubits in 0.0001 seconds\n",
      "Matrix: Simulated 7 qubits in 0.0011 seconds\n",
      "Tensor: Simulated 7 qubits in 0.0001 seconds\n",
      "Matrix: Simulated 8 qubits in 0.0038 seconds\n",
      "Tensor: Simulated 8 qubits in 0.0001 seconds\n",
      "Matrix: Simulated 9 qubits in 0.0160 seconds\n",
      "Tensor: Simulated 9 qubits in 0.0001 seconds\n",
      "Matrix: Simulated 10 qubits in 0.0645 seconds\n",
      "Tensor: Simulated 10 qubits in 0.0002 seconds\n",
      "Matrix: Simulated 11 qubits in 0.2826 seconds\n",
      "Tensor: Simulated 11 qubits in 0.0004 seconds\n",
      "Matrix: Simulated 12 qubits in 1.2152 seconds\n",
      "Tensor: Simulated 12 qubits in 0.0006 seconds\n",
      "Matrix: Simulated 13 qubits in 5.1995 seconds\n",
      "Tensor: Simulated 13 qubits in 0.0009 seconds\n",
      "Matrix: Simulated 14 qubits in 25.4380 seconds\n",
      "Tensor: Simulated 14 qubits in 0.0018 seconds\n",
      "Matrix: Simulated 15 qubits in 168.1287 seconds\n",
      "Tensor: Simulated 15 qubits in 0.0046 seconds\n"
     ]
    },
    {
     "data": {
      "image/png": "[encoded data removed]",
      "text/plain": [
       "<Figure size 1200x800 with 1 Axes>"
      ]
     },
     "metadata": {},
     "output_type": "display_data"
    }
   ],
   "source": [
    "max_qubits = 15  # Adjust as needed based on your machine's capabilities\n",
    "test_runtime_comparison(max_qubits)"
   ]
  },
  {
   "cell_type": "markdown",
   "metadata": {},
   "source": [
    "### (3) Bonus question"
   ]
  },
  {
   "cell_type": "markdown",
   "metadata": {},
   "source": [
    "#### 1. How would you sample from the final states in the statevector or tensor representations? "
   ]
  },
  {
   "cell_type": "code",
   "execution_count": null,
   "metadata": {},
   "outputs": [],
   "source": [
    "import numpy as np\n",
    "\n",
    "def sample_statevector(statevector, num_samples=1):\n",
    "    # Compute probabilities by taking the squared magnitude of each amplitude\n",
    "    probabilities = np.abs(statevector) ** 2\n",
    "    # Normalize probabilities to account for numerical precision\n",
    "    probabilities /= probabilities.sum()\n",
    "    # Generate all possible bitstrings\n",
    "    n_qubits = int(np.log2(len(statevector)))\n",
    "    bitstrings = [format(i, f'0{n_qubits}b') for i in range(len(statevector))]\n",
    "    # Perform sampling\n",
    "    samples = np.random.choice(bitstrings, size=num_samples, p=probabilities)\n",
    "    return samples.tolist()\n",
    "\n",
    "def sample_tensor(state_tensor, num_samples=1):\n",
    "    # Flatten the tensor to a statevector\n",
    "    statevector = state_tensor.flatten()\n",
    "    return sample_statevector(statevector, num_samples)"
   ]
  },
  {
   "cell_type": "code",
   "execution_count": 14,
   "metadata": {},
   "outputs": [
    {
     "name": "stdout",
     "output_type": "stream",
     "text": [
      "Samples from Statevector: ['11', '11', '00', '11', '11', '11', '00', '11', '00', '11']\n",
      "Samples from Tensor: ['11', '00', '00', '00', '11', '11', '11', '00', '00', '00']\n"
     ]
    }
   ],
   "source": [
    "# suppose we have a bell state |Φ+> = (|00> + |11>) / √2\n",
    "bell_state = np.array([1/np.sqrt(2), 0, 0, 1/np.sqrt(2)], dtype=complex)\n",
    "\n",
    "# sample from statevector\n",
    "samples_sv = sample_statevector(bell_state, num_samples=10)\n",
    "print(\"Samples from Statevector:\", samples_sv)\n",
    "\n",
    "# sample from tensor\n",
    "bell_state_tensor = bell_state.reshape(2, 2)\n",
    "samples_tensor = sample_tensor(bell_state_tensor, num_samples=10)\n",
    "print(\"Samples from Tensor:\", samples_tensor)"
   ]
  },
  {
   "cell_type": "markdown",
   "metadata": {},
   "source": [
    "#### 2. And how about computing exact expectation values in the form <Ψ| Op |Ψ>?"
   ]
  },
  {
   "cell_type": "code",
   "execution_count": null,
   "metadata": {},
   "outputs": [],
   "source": [
    "import numpy as np\n",
    "\n",
    "def compute_expectation_statevector(statevector, operator):\n",
    "    # Compute <Ψ| Op |Ψ>\n",
    "    expectation = np.vdot(statevector, operator @ statevector)\n",
    "    # Since operator is Hermitian, the result should be real\n",
    "    return expectation.real\n",
    "\n",
    "def compute_expectation_tensor(state_tensor, operator, n_qubits):\n",
    "    # Flatten the tensor to a statevector\n",
    "    statevector = state_tensor.flatten()\n",
    "    return compute_expectation_statevector(statevector, operator)"
   ]
  },
  {
   "cell_type": "code",
   "execution_count": null,
   "metadata": {},
   "outputs": [
    {
     "name": "stdout",
     "output_type": "stream",
     "text": [
      "Expectation value (Statevector): 1.0\n",
      "Expectation value (Tensor): 1.0\n",
      "Expectation value for |Φ+> with Z⊗Z: 0.9999999999999998\n"
     ]
    }
   ],
   "source": [
    "# Example: Expectation value of a Pauli-Z operator on a statevector and a tensor\n",
    "# define Pauli-Z operator\n",
    "Z = np.array([[1, 0],\n",
    "              [0, -1]], dtype=complex)\n",
    "\n",
    "# Z ⊗ I for 2 qubits\n",
    "Z_I = np.kron(Z, I)\n",
    "\n",
    "# suppose we have a state |00>\n",
    "state_00 = np.array([1, 0, 0, 0], dtype=complex)\n",
    "state_00_tensor = state_00.reshape(2, 2)\n",
    "\n",
    "# compute expectation value ⟨00| Z ⊗ I |00⟩\n",
    "expectation_sv = compute_expectation_statevector(state_00, Z_I)\n",
    "print(\"Expectation value (Statevector):\", expectation_sv)\n",
    "\n",
    "expectation_tensor = compute_expectation_tensor(state_00_tensor, Z_I, n_qubits=2)\n",
    "print(\"Expectation value (Tensor):\", expectation_tensor)\n",
    "\n",
    "# another example: Expectation value of Z⊗Z operator on a Bell state\n",
    "bell_state = np.array([1/np.sqrt(2), 0, 0, 1/np.sqrt(2)], dtype=complex)\n",
    "bell_state_tensor = bell_state.reshape(2, 2)\n",
    "\n",
    "# compute expectation value ⟨Φ+| Z ⊗ Z |Φ+⟩\n",
    "Z_Z = np.kron(Z, Z)\n",
    "expectation_bell = compute_expectation_statevector(bell_state, Z_Z)\n",
    "print(\"Expectation value for |Φ+> with Z⊗Z:\", expectation_bell)"
   ]
  }
 ],
 "metadata": {
  "kernelspec": {
   "display_name": "IQC-Qiskit",
   "language": "python",
   "name": "python3"
  },
  "language_info": {
   "codemirror_mode": {
    "name": "ipython",
    "version": 3
   },
   "file_extension": ".py",
   "mimetype": "text/x-python",
   "name": "python",
   "nbconvert_exporter": "python",
   "pygments_lexer": "ipython3",
   "version": "3.12.5"
  }
 },
 "nbformat": 4,
 "nbformat_minor": 2
}
